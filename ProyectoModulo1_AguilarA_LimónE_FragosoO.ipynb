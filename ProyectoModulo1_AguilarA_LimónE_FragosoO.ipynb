{
 "cells": [
  {
   "cell_type": "markdown",
   "metadata": {},
   "source": [
    "# MÍNIMO COSTO PARA EL TRATAMIENTO DE AGUAS RESIDUALES"
   ]
  },
  {
   "cell_type": "markdown",
   "metadata": {},
   "source": [
    "$ Objetivos$"
   ]
  },
  {
   "cell_type": "markdown",
   "metadata": {},
   "source": [
    "- Objetivo General"
   ]
  },
  {
   "cell_type": "markdown",
   "metadata": {},
   "source": [
    "Un problema principal de las grandes ciudades son los desechos de drenaje que generan. Estos desechos son en muchas ocaciones los que contaminan los ríos a los que se descargan. Como medida preventiva este trabajo busca localizar en puntos especificos plantas de tratamineto de aguas. Lo que se busca calcular aquí es el % mínimo de tratamiento de agua necesario que genere el menor costo."
   ]
  },
  {
   "cell_type": "markdown",
   "metadata": {},
   "source": [
    "- Objetivos específicos"
   ]
  },
  {
   "cell_type": "markdown",
   "metadata": {},
   "source": [
    "El plano de la zona donde se busca realizar este proyecta nis muestra varios ríos que terminan uniendose y fusionandose en uno solo. Esto genera un problema debido a que los desechos descargados se van a juntar en un punto de los ríos. Para poder calcular el tratamiento que deben de llevar esas aguas tenemos que tener en cuenta ese factor. Esto es debido a que los contaminantes se mezclan y se acumulan de un punto tratamiento a otro. Para poder calcular esto tenemos que hacer un balanceo de masas con la formula:\n",
    "    $ C_i= W_i+Q_UC_u / Q_i$"
   ]
  },
  {
   "cell_type": "markdown",
   "metadata": {},
   "source": [
    "$Q_u$= Flujo(L/d)\n",
    "    \n",
    "$C_u$= Concentración(mg/L)\n",
    "   \n",
    "$Q_i$= Flujo  abajo  del  punto  de  descarga"
   ]
  },
  {
   "cell_type": "markdown",
   "metadata": {},
   "source": [
    "Sean:\n",
    "* $x_1$ variable para niveles de tratamiento en ciudad 1 \n",
    "* $x_2$ variable para niveles de tratamiento en ciudad 2\n",
    "* $x_3$ variable para niveles de tratamiento en ciudad 3\n",
    "* $x_4$ variable para niveles de tratamiento en ciudad 4"
   ]
  },
  {
   "cell_type": "markdown",
   "metadata": {},
   "source": [
    "Min: $2000x_1+4000x_2+16000x_3+10000x_4$"
   ]
  },
  {
   "cell_type": "markdown",
   "metadata": {},
   "source": [
    "restricciones: \n",
    "* 1) $-100x_1\\leq -80$\n",
    "* 2) $-40x_2\\leq -20$\n",
    "* 3) $-47.27x_3\\leq -26.59$\n",
    "* 4) $-22.48x_4\\leq -0.15$"
   ]
  },
  {
   "cell_type": "code",
   "execution_count": 3,
   "metadata": {},
   "outputs": [],
   "source": [
    "import scipy.optimize as opt\n",
    "import numpy as np \n",
    "import matplotlib.pyplot as plt "
   ]
  },
  {
   "cell_type": "code",
   "execution_count": 4,
   "metadata": {},
   "outputs": [],
   "source": [
    "c=np.array([2000,4000,16000,10000])\n",
    "A=np.array([[-100,0,0,0],[0,-40,0,0],[0,0,-47.27,0],[0,0,0,-22.48]])\n",
    "b=np.array([-80,-20,-26.59,-0.15])"
   ]
  },
  {
   "cell_type": "code",
   "execution_count": 5,
   "metadata": {},
   "outputs": [
    {
     "data": {
      "text/plain": [
       "     con: array([], dtype=float64)\n",
       "     fun: 12666.93752931407\n",
       " message: 'The solution was determined in presolve as there are no non-trivial constraints.'\n",
       "     nit: 0\n",
       "   slack: array([0., 0., 0., 0.])\n",
       "  status: 0\n",
       " success: True\n",
       "       x: array([0.8       , 0.5       , 0.56251322, 0.0066726 ])"
      ]
     },
     "execution_count": 5,
     "metadata": {},
     "output_type": "execute_result"
    }
   ],
   "source": [
    "sol=opt.linprog(c,A,b,bounds=(0,1))\n",
    "sol"
   ]
  },
  {
   "cell_type": "markdown",
   "metadata": {},
   "source": [
    "$Cocnlusiones$"
   ]
  },
  {
   "cell_type": "markdown",
   "metadata": {},
   "source": [
    "*Los resultados que obtuvimos representan el porcentaje de tratamiento de agua para minimizar los gastos. Los resultados son los los que se deberían de aplicar a las plantas $c_1,  c_2,  c_3,  y  c_4$ respectivamente. Esto es lo que nos va a determinar el trato que se le debe dar al agua dependiendo de la planta y el número de contaminantes que se calcula que lleve.*"
   ]
  },
  {
   "cell_type": "markdown",
   "metadata": {},
   "source": [
    "# Bibliografía"
   ]
  },
  {
   "cell_type": "markdown",
   "metadata": {},
   "source": [
    "*Canale, S. C. (2006). Metodos numericos para ingenieros. Ciudad de México: Mc Graw Hill.*"
   ]
  }
 ],
 "metadata": {
  "kernelspec": {
   "display_name": "Python 3",
   "language": "python",
   "name": "python3"
  },
  "language_info": {
   "codemirror_mode": {
    "name": "ipython",
    "version": 3
   },
   "file_extension": ".py",
   "mimetype": "text/x-python",
   "name": "python",
   "nbconvert_exporter": "python",
   "pygments_lexer": "ipython3",
   "version": "3.8.3"
  }
 },
 "nbformat": 4,
 "nbformat_minor": 4
}
