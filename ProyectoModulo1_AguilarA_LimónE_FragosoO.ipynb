{
 "cells": [
  {
   "cell_type": "markdown",
   "metadata": {},
   "source": [
    "# Proyecto #"
   ]
  },
  {
   "cell_type": "markdown",
   "metadata": {},
   "source": [
    "Sean:\n",
    "* $x_1$ variable para niveles de tratamiento en ciudad 1 \n",
    "* $x_2$ variable para niveles de tratamiento en ciudad 2\n",
    "* $x_3$ variable para niveles de tratamiento en ciudad 3\n",
    "* $x_4$ variable para niveles de tratamiento en ciudad 4"
   ]
  },
  {
   "cell_type": "markdown",
   "metadata": {},
   "source": [
    "Min: $2000x_1+4000x_2+16000x_3+10000x_4$"
   ]
  },
  {
   "cell_type": "markdown",
   "metadata": {},
   "source": [
    "restricciones: \n",
    "* 1) $-100x_1\\leq -80$\n",
    "* 2) $-40x_2\\leq -20$\n",
    "* 3) $-47.27x_3\\leq -26.59$\n",
    "* 4) $-22.48x_4\\leq -0.15$"
   ]
  },
  {
   "cell_type": "code",
   "execution_count": 3,
   "metadata": {},
   "outputs": [],
   "source": [
    "import scipy.optimize as opt\n",
    "import numpy as np \n",
    "import matplotlib.pyplot as plt "
   ]
  },
  {
   "cell_type": "code",
   "execution_count": 4,
   "metadata": {},
   "outputs": [],
   "source": [
    "c=np.array([2000,4000,16000,10000])\n",
    "A=np.array([[-100,0,0,0],[0,-40,0,0],[0,0,-47.27,0],[0,0,0,-22.48]])\n",
    "b=np.array([-80,-20,-26.59,-0.15])"
   ]
  },
  {
   "cell_type": "code",
   "execution_count": 5,
   "metadata": {},
   "outputs": [
    {
     "data": {
      "text/plain": [
       "     con: array([], dtype=float64)\n",
       "     fun: 12666.93752931407\n",
       " message: 'The solution was determined in presolve as there are no non-trivial constraints.'\n",
       "     nit: 0\n",
       "   slack: array([0., 0., 0., 0.])\n",
       "  status: 0\n",
       " success: True\n",
       "       x: array([0.8       , 0.5       , 0.56251322, 0.0066726 ])"
      ]
     },
     "execution_count": 5,
     "metadata": {},
     "output_type": "execute_result"
    }
   ],
   "source": [
    "sol=opt.linprog(c,A,b,bounds=(0,1))\n",
    "sol"
   ]
  }
 ],
 "metadata": {
  "kernelspec": {
   "display_name": "Python 3",
   "language": "python",
   "name": "python3"
  },
  "language_info": {
   "codemirror_mode": {
    "name": "ipython",
    "version": 3
   },
   "file_extension": ".py",
   "mimetype": "text/x-python",
   "name": "python",
   "nbconvert_exporter": "python",
   "pygments_lexer": "ipython3",
   "version": "3.8.3"
  }
 },
 "nbformat": 4,
 "nbformat_minor": 4
}
