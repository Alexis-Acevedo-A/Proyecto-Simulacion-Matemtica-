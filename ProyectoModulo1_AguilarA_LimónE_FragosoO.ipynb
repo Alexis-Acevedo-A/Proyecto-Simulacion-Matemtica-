{
 "cells": [
  {
   "cell_type": "markdown",
   "metadata": {},
   "source": [
    "# MÍNIMO COSTO PARA EL TRATAMIENTO DE AGUAS RESIDUALES"
   ]
  },
  {
   "cell_type": "markdown",
   "metadata": {},
   "source": [
    "$ Objetivos$"
   ]
  },
  {
   "cell_type": "markdown",
   "metadata": {},
   "source": [
    "- Objetivo General"
   ]
  },
  {
   "cell_type": "markdown",
   "metadata": {},
   "source": [
    "Un problema principal de las grandes ciudades son los desechos de drenaje que generan. Estos desechos son en muchas ocaciones los que contaminan los ríos a los que se descargan. Como medida preventiva este trabajo busca localizar en puntos especificos plantas de tratamineto de aguas. Lo que se busca calcular aquí es el % mínimo de tratamiento de agua necesario que genere el menor costo."
   ]
  },
  {
   "cell_type": "markdown",
   "metadata": {},
   "source": [
    "- Objetivos específicos"
   ]
  },
  {
   "cell_type": "markdown",
   "metadata": {},
   "source": [
    "El plano de la zona donde se busca realizar este proyecta nis muestra varios ríos que terminan uniendose y fusionandose en uno solo. Esto genera un problema debido a que los desechos descargados se van a juntar en un punto de los ríos. Para poder calcular el tratamiento que deben de llevar esas aguas tenemos que tener en cuenta ese factor. Esto es debido a que los contaminantes se mezclan y se acumulan de un punto tratamiento a otro. Para poder calcular esto tenemos que hacer un balanceo de masas con la formula:\n",
    "    $ C_i= W_i+Q_UC_u / Q_i$"
   ]
  },
  {
   "cell_type": "markdown",
   "metadata": {},
   "source": [
    "$Q_u$= Flujo(L/d)\n",
    "    \n",
    "$C_u$= Concentración(mg/L)\n",
    "   \n",
    "$Q_i$= Flujo  abajo  del  punto  de  descarga"
   ]
  },
  {
   "cell_type": "markdown",
   "metadata": {},
   "source": [
    "Sean:\n",
    "* $x_1$ variable para niveles de tratamiento en ciudad 1 \n",
    "* $x_2$ variable para niveles de tratamiento en ciudad 2\n",
    "* $x_3$ variable para niveles de tratamiento en ciudad 3\n",
    "* $x_4$ variable para niveles de tratamiento en ciudad 4"
   ]
  },
  {
   "cell_type": "markdown",
   "metadata": {},
   "source": [
    "Min: $2000x_1+4000x_2+16000x_3+10000x_4$"
   ]
  },
  {
   "cell_type": "markdown",
   "metadata": {},
   "source": [
    "restricciones: \n",
    "* 1) $-100x_1\\leq -80$\n",
    "* 2) $-40x_2\\leq -20$\n",
    "* 3) $-47.27x_3\\leq -26.59$\n",
    "* 4) $-22.48x_4\\leq -0.15$"
   ]
  },
  {
   "cell_type": "code",
   "execution_count": 7,
   "metadata": {},
   "outputs": [],
   "source": [
    "import scipy.optimize as opt\n",
    "import numpy as np \n",
    "import matplotlib.pyplot as plt \n",
    "import pandas as pd"
   ]
  },
  {
   "cell_type": "code",
   "execution_count": 11,
   "metadata": {},
   "outputs": [],
   "source": [
    "c=np.array([2000,4000,16000,10000])\n",
    "A=np.array([[-100,0,0,0],[0,-40,0,0],[0,0,-47.27,0],[0,0,0,-22.48]])\n",
    "b=np.array([-80,-20,-26.59,-0.15])"
   ]
  },
  {
   "cell_type": "code",
   "execution_count": 12,
   "metadata": {},
   "outputs": [
    {
     "data": {
      "text/plain": [
       "     con: array([], dtype=float64)\n",
       "     fun: 12666.93752931407\n",
       " message: 'The solution was determined in presolve as there are no non-trivial constraints.'\n",
       "     nit: 0\n",
       "   slack: array([0., 0., 0., 0.])\n",
       "  status: 0\n",
       " success: True\n",
       "       x: array([0.8       , 0.5       , 0.56251322, 0.0066726 ])"
      ]
     },
     "execution_count": 12,
     "metadata": {},
     "output_type": "execute_result"
    }
   ],
   "source": [
    "sol=opt.linprog(c,A,b,bounds=(0,1))\n",
    "sol"
   ]
  },
  {
   "cell_type": "code",
   "execution_count": 8,
   "metadata": {},
   "outputs": [
    {
     "data": {
      "text/html": [
       "<div>\n",
       "<style scoped>\n",
       "    .dataframe tbody tr th:only-of-type {\n",
       "        vertical-align: middle;\n",
       "    }\n",
       "\n",
       "    .dataframe tbody tr th {\n",
       "        vertical-align: top;\n",
       "    }\n",
       "\n",
       "    .dataframe thead th {\n",
       "        text-align: right;\n",
       "    }\n",
       "</style>\n",
       "<table border=\"1\" class=\"dataframe\">\n",
       "  <thead>\n",
       "    <tr style=\"text-align: right;\">\n",
       "      <th></th>\n",
       "      <th>Costo mínimo de tratamiento de aguas residuales</th>\n",
       "      <th>Unnamed: 1</th>\n",
       "      <th>Unnamed: 2</th>\n",
       "      <th>Unnamed: 3</th>\n",
       "      <th>Unnamed: 4</th>\n",
       "      <th>Unnamed: 5</th>\n",
       "      <th>Unnamed: 6</th>\n",
       "      <th>Unnamed: 7</th>\n",
       "      <th>Unnamed: 8</th>\n",
       "      <th>Unnamed: 9</th>\n",
       "      <th>Unnamed: 10</th>\n",
       "      <th>Unnamed: 11</th>\n",
       "    </tr>\n",
       "  </thead>\n",
       "  <tbody>\n",
       "    <tr>\n",
       "      <th>0</th>\n",
       "      <td>Ciudad</td>\n",
       "      <td>No tratada</td>\n",
       "      <td>Tratamiento</td>\n",
       "      <td>Descarga</td>\n",
       "      <td>Costo unit.</td>\n",
       "      <td>Concentración</td>\n",
       "      <td>Estándar</td>\n",
       "      <td>Costo del</td>\n",
       "      <td>NaN</td>\n",
       "      <td>Flujo en</td>\n",
       "      <td>Remoción</td>\n",
       "      <td>Costo</td>\n",
       "    </tr>\n",
       "    <tr>\n",
       "      <th>1</th>\n",
       "      <td>NaN</td>\n",
       "      <td>P</td>\n",
       "      <td>x</td>\n",
       "      <td>W</td>\n",
       "      <td>d</td>\n",
       "      <td>en el río</td>\n",
       "      <td>de CA</td>\n",
       "      <td>tratamiento</td>\n",
       "      <td>Segmento</td>\n",
       "      <td>el río</td>\n",
       "      <td>en el río</td>\n",
       "      <td>Total</td>\n",
       "    </tr>\n",
       "    <tr>\n",
       "      <th>2</th>\n",
       "      <td>1</td>\n",
       "      <td>1.00E+09</td>\n",
       "      <td>8.00E-01</td>\n",
       "      <td>2.00E+08</td>\n",
       "      <td>2.00E-06</td>\n",
       "      <td>20</td>\n",
       "      <td>20</td>\n",
       "      <td>1600</td>\n",
       "      <td>1 a 3</td>\n",
       "      <td>1.00E+07</td>\n",
       "      <td>0.5</td>\n",
       "      <td>12600</td>\n",
       "    </tr>\n",
       "    <tr>\n",
       "      <th>3</th>\n",
       "      <td>2</td>\n",
       "      <td>2.00E+09</td>\n",
       "      <td>5.00E-01</td>\n",
       "      <td>1.00E+09</td>\n",
       "      <td>2.00E-06</td>\n",
       "      <td>20</td>\n",
       "      <td>20</td>\n",
       "      <td>2000</td>\n",
       "      <td>2 a 3</td>\n",
       "      <td>5.00E+07</td>\n",
       "      <td>0.35</td>\n",
       "      <td>NaN</td>\n",
       "    </tr>\n",
       "    <tr>\n",
       "      <th>4</th>\n",
       "      <td>3</td>\n",
       "      <td>4.00E+09</td>\n",
       "      <td>5.63E-01</td>\n",
       "      <td>1.75E+09</td>\n",
       "      <td>4.00E-06</td>\n",
       "      <td>20</td>\n",
       "      <td>20</td>\n",
       "      <td>9000</td>\n",
       "      <td>3 a 4</td>\n",
       "      <td>1.10E+08</td>\n",
       "      <td>0.6</td>\n",
       "      <td>NaN</td>\n",
       "    </tr>\n",
       "    <tr>\n",
       "      <th>5</th>\n",
       "      <td>4</td>\n",
       "      <td>2.50E+09</td>\n",
       "      <td>0.00E+00</td>\n",
       "      <td>2.50E+09</td>\n",
       "      <td>4.00E-06</td>\n",
       "      <td>15.28</td>\n",
       "      <td>20</td>\n",
       "      <td>0</td>\n",
       "      <td>4 a 5</td>\n",
       "      <td>2.50E+08</td>\n",
       "      <td>NaN</td>\n",
       "      <td>NaN</td>\n",
       "    </tr>\n",
       "  </tbody>\n",
       "</table>\n",
       "</div>"
      ],
      "text/plain": [
       "  Costo mínimo de tratamiento de aguas residuales  Unnamed: 1   Unnamed: 2  \\\n",
       "0                                          Ciudad  No tratada  Tratamiento   \n",
       "1                                             NaN           P            x   \n",
       "2                                               1    1.00E+09     8.00E-01   \n",
       "3                                               2    2.00E+09     5.00E-01   \n",
       "4                                               3    4.00E+09     5.63E-01   \n",
       "5                                               4    2.50E+09     0.00E+00   \n",
       "\n",
       "  Unnamed: 3   Unnamed: 4     Unnamed: 5 Unnamed: 6   Unnamed: 7 Unnamed: 8  \\\n",
       "0   Descarga  Costo unit.  Concentración   Estándar    Costo del        NaN   \n",
       "1          W            d      en el río      de CA  tratamiento   Segmento   \n",
       "2   2.00E+08     2.00E-06             20         20         1600      1 a 3   \n",
       "3   1.00E+09     2.00E-06             20         20         2000      2 a 3   \n",
       "4   1.75E+09     4.00E-06             20         20         9000      3 a 4   \n",
       "5   2.50E+09     4.00E-06          15.28         20            0      4 a 5   \n",
       "\n",
       "  Unnamed: 9 Unnamed: 10 Unnamed: 11  \n",
       "0   Flujo en    Remoción       Costo  \n",
       "1     el río   en el río       Total  \n",
       "2   1.00E+07         0.5       12600  \n",
       "3   5.00E+07        0.35         NaN  \n",
       "4   1.10E+08         0.6         NaN  \n",
       "5   2.50E+08         NaN         NaN  "
      ]
     },
     "execution_count": 8,
     "metadata": {},
     "output_type": "execute_result"
    }
   ],
   "source": [
    "tabla=pd.read_csv(\"PSIM.csv\")\n",
    "tabla"
   ]
  },
  {
   "cell_type": "code",
   "execution_count": 9,
   "metadata": {},
   "outputs": [],
   "source": [
    "c=np.array([2000,4000,16000,10000])\n",
    "A=np.array([[-100,0,0,0],[0,-40,0,0],[0,0,-47.27,0],[0,0,0,-22.48]])\n",
    "b=np.array([-80,-20,-26.589375,0])"
   ]
  },
  {
   "cell_type": "code",
   "execution_count": 10,
   "metadata": {},
   "outputs": [
    {
     "data": {
      "text/plain": [
       "     con: array([], dtype=float64)\n",
       "     fun: 12600.0\n",
       " message: 'The solution was determined in presolve as there are no non-trivial constraints.'\n",
       "     nit: 0\n",
       "   slack: array([0., 0., 0., 0.])\n",
       "  status: 0\n",
       " success: True\n",
       "       x: array([0.8   , 0.5   , 0.5625, 0.    ])"
      ]
     },
     "execution_count": 10,
     "metadata": {},
     "output_type": "execute_result"
    }
   ],
   "source": [
    "sol=opt.linprog(c,A,b,bounds=(0,1))\n",
    "sol"
   ]
  },
  {
   "cell_type": "markdown",
   "metadata": {},
   "source": [
    "$Conclusiones$"
   ]
  },
  {
   "cell_type": "markdown",
   "metadata": {},
   "source": [
    "*Los resultados que obtuvimos representan el porcentaje de tratamiento de agua para minimizar los gastos. Los resultados son los los que se deberían de aplicar a las plantas $c_1,  c_2,  c_3,  y  c_4$ respectivamente. Esto es lo que nos va a determinar el trato que se le debe dar al agua dependiendo de la planta y el número de contaminantes que se calcula que lleve.*"
   ]
  },
  {
   "cell_type": "markdown",
   "metadata": {},
   "source": [
    "# Bibliografía"
   ]
  },
  {
   "cell_type": "markdown",
   "metadata": {},
   "source": [
    "*Canale, S. C. (2006). Metodos numericos para ingenieros. Ciudad de México: Mc Graw Hill.*"
   ]
  }
 ],
 "metadata": {
  "kernelspec": {
   "display_name": "Python 3",
   "language": "python",
   "name": "python3"
  },
  "language_info": {
   "codemirror_mode": {
    "name": "ipython",
    "version": 3
   },
   "file_extension": ".py",
   "mimetype": "text/x-python",
   "name": "python",
   "nbconvert_exporter": "python",
   "pygments_lexer": "ipython3",
   "version": "3.8.3"
  }
 },
 "nbformat": 4,
 "nbformat_minor": 4
}
